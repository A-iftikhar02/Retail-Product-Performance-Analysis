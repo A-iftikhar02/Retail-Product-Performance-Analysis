{
 "cells": [
  {
   "cell_type": "markdown",
   "id": "5eb40a3d",
   "metadata": {},
   "source": [
    "# INTRODUCTION"
   ]
  },
  {
   "cell_type": "markdown",
   "id": "d4e5dc90",
   "metadata": {},
   "source": [
    "###### \n",
    " Retail Product Performance Analysis\n",
    "\n",
    "This project focuses on analyzing retail transaction data to extract meaningful business insights. The dataset contains records of customer purchases, including product details, order dates, quantities, regions, and pricing.\n",
    "\n",
    "The goal is to simulate the daily responsibilities of a data analyst working in a retail company — performing cleaning, feature engineering, and answering business questions using Python and Pandas. Visualizations are used to support key insights.\n",
    "\n",
    "We divided the project into 3 phases:\n",
    "1. Data Cleaning & Preparation\n",
    "2. Analytical Insights (with groupby, logic, etc.)\n",
    "3. Visualizations for key business questions\n",
    "\n",
    "The results help stakeholders understand which products, time periods, and regions drive performance — supporting better decision-making.\n"
   ]
  },
  {
   "cell_type": "markdown",
   "id": "88804651",
   "metadata": {},
   "source": [
    "## Phase#1-Data Cleaning & Preparation"
   ]
  },
  {
   "cell_type": "markdown",
   "id": "cf244b95",
   "metadata": {},
   "source": [
    "### 1.1-Load Dataset"
   ]
  },
  {
   "cell_type": "code",
   "execution_count": 1,
   "id": "035a0c9b",
   "metadata": {},
   "outputs": [
    {
     "data": {
      "text/html": [
       "<div>\n",
       "<style scoped>\n",
       "    .dataframe tbody tr th:only-of-type {\n",
       "        vertical-align: middle;\n",
       "    }\n",
       "\n",
       "    .dataframe tbody tr th {\n",
       "        vertical-align: top;\n",
       "    }\n",
       "\n",
       "    .dataframe thead th {\n",
       "        text-align: right;\n",
       "    }\n",
       "</style>\n",
       "<table border=\"1\" class=\"dataframe\">\n",
       "  <thead>\n",
       "    <tr style=\"text-align: right;\">\n",
       "      <th></th>\n",
       "      <th>Order ID</th>\n",
       "      <th>Product</th>\n",
       "      <th>Category</th>\n",
       "      <th>Quantity Ordered</th>\n",
       "      <th>Price Each</th>\n",
       "      <th>Order Date</th>\n",
       "      <th>Region</th>\n",
       "    </tr>\n",
       "  </thead>\n",
       "  <tbody>\n",
       "    <tr>\n",
       "      <th>0</th>\n",
       "      <td>1001</td>\n",
       "      <td>Laptop</td>\n",
       "      <td>Electronics</td>\n",
       "      <td>1</td>\n",
       "      <td>1200</td>\n",
       "      <td>2023-01-15</td>\n",
       "      <td>West</td>\n",
       "    </tr>\n",
       "    <tr>\n",
       "      <th>1</th>\n",
       "      <td>1002</td>\n",
       "      <td>Phone</td>\n",
       "      <td>Electronics</td>\n",
       "      <td>2</td>\n",
       "      <td>700</td>\n",
       "      <td>2023-01-16</td>\n",
       "      <td>East</td>\n",
       "    </tr>\n",
       "    <tr>\n",
       "      <th>2</th>\n",
       "      <td>1003</td>\n",
       "      <td>Tablet</td>\n",
       "      <td>Electronics</td>\n",
       "      <td>1</td>\n",
       "      <td>300</td>\n",
       "      <td>2023-01-17</td>\n",
       "      <td>West</td>\n",
       "    </tr>\n",
       "    <tr>\n",
       "      <th>3</th>\n",
       "      <td>1004</td>\n",
       "      <td>Monitor</td>\n",
       "      <td>Electronics</td>\n",
       "      <td>3</td>\n",
       "      <td>250</td>\n",
       "      <td>2023-01-18</td>\n",
       "      <td>South</td>\n",
       "    </tr>\n",
       "    <tr>\n",
       "      <th>4</th>\n",
       "      <td>1001</td>\n",
       "      <td>Laptop</td>\n",
       "      <td>Electronics</td>\n",
       "      <td>1</td>\n",
       "      <td>1200</td>\n",
       "      <td>2023-01-15</td>\n",
       "      <td>West</td>\n",
       "    </tr>\n",
       "  </tbody>\n",
       "</table>\n",
       "</div>"
      ],
      "text/plain": [
       "   Order ID  Product     Category  Quantity Ordered  Price Each  Order Date  \\\n",
       "0      1001   Laptop  Electronics                 1        1200  2023-01-15   \n",
       "1      1002    Phone  Electronics                 2         700  2023-01-16   \n",
       "2      1003   Tablet  Electronics                 1         300  2023-01-17   \n",
       "3      1004  Monitor  Electronics                 3         250  2023-01-18   \n",
       "4      1001   Laptop  Electronics                 1        1200  2023-01-15   \n",
       "\n",
       "  Region  \n",
       "0   West  \n",
       "1   East  \n",
       "2   West  \n",
       "3  South  \n",
       "4   West  "
      ]
     },
     "execution_count": 1,
     "metadata": {},
     "output_type": "execute_result"
    }
   ],
   "source": [
    "import pandas as pd\n",
    "df=pd.read_csv('retail_sales_data_large.csv')\n",
    "df.head()"
   ]
  },
  {
   "cell_type": "markdown",
   "id": "a6ee4dfd",
   "metadata": {},
   "source": [
    "### 1.2-Basic Exploration"
   ]
  },
  {
   "cell_type": "code",
   "execution_count": null,
   "id": "af38c95e",
   "metadata": {},
   "outputs": [
    {
     "name": "stdout",
     "output_type": "stream",
     "text": [
      "(9000, 7)\n",
      "Index(['Order ID', 'Product', 'Category', 'Quantity Ordered', 'Price Each',\n",
      "       'Order Date', 'Region'],\n",
      "      dtype='object')\n",
      "Order ID             int64\n",
      "Product             object\n",
      "Category            object\n",
      "Quantity Ordered     int64\n",
      "Price Each           int64\n",
      "Order Date          object\n",
      "Region              object\n",
      "dtype: object\n"
     ]
    }
   ],
   "source": [
    "print(df.shape)\n",
    "print(df.columns)\n"
   ]
  },
  {
   "cell_type": "markdown",
   "id": "eb11bd2e",
   "metadata": {},
   "source": [
    "### 1.3-Checking Columns and dataTypes"
   ]
  },
  {
   "cell_type": "code",
   "execution_count": 3,
   "id": "7b00d0b6",
   "metadata": {},
   "outputs": [
    {
     "name": "stdout",
     "output_type": "stream",
     "text": [
      "<class 'pandas.core.frame.DataFrame'>\n",
      "RangeIndex: 9000 entries, 0 to 8999\n",
      "Data columns (total 7 columns):\n",
      " #   Column            Non-Null Count  Dtype \n",
      "---  ------            --------------  ----- \n",
      " 0   Order ID          9000 non-null   int64 \n",
      " 1   Product           9000 non-null   object\n",
      " 2   Category          9000 non-null   object\n",
      " 3   Quantity Ordered  9000 non-null   int64 \n",
      " 4   Price Each        9000 non-null   int64 \n",
      " 5   Order Date        9000 non-null   object\n",
      " 6   Region            9000 non-null   object\n",
      "dtypes: int64(3), object(4)\n",
      "memory usage: 492.3+ KB\n",
      "None\n"
     ]
    }
   ],
   "source": [
    "print(df.info())"
   ]
  },
  {
   "cell_type": "markdown",
   "id": "5f9e3dd8",
   "metadata": {},
   "source": [
    "### 1.4-Statistical Summary"
   ]
  },
  {
   "cell_type": "code",
   "execution_count": 5,
   "id": "5fe9f4ab",
   "metadata": {},
   "outputs": [
    {
     "name": "stdout",
     "output_type": "stream",
     "text": [
      "           Order ID Product     Category  Quantity Ordered   Price Each  \\\n",
      "count   9000.000000    9000         9000       9000.000000  9000.000000   \n",
      "unique          NaN       4            1               NaN          NaN   \n",
      "top             NaN  Laptop  Electronics               NaN          NaN   \n",
      "freq            NaN    2250         9000               NaN          NaN   \n",
      "mean    1002.500000     NaN          NaN          1.750000   612.500000   \n",
      "std        1.118096     NaN          NaN          0.829202   381.424848   \n",
      "min     1001.000000     NaN          NaN          1.000000   250.000000   \n",
      "25%     1001.750000     NaN          NaN          1.000000   287.500000   \n",
      "50%     1002.500000     NaN          NaN          1.500000   500.000000   \n",
      "75%     1003.250000     NaN          NaN          2.250000   825.000000   \n",
      "max     1004.000000     NaN          NaN          3.000000  1200.000000   \n",
      "\n",
      "        Order Date Region  \n",
      "count         9000   9000  \n",
      "unique           4      3  \n",
      "top     2023-01-15   West  \n",
      "freq          2250   4500  \n",
      "mean           NaN    NaN  \n",
      "std            NaN    NaN  \n",
      "min            NaN    NaN  \n",
      "25%            NaN    NaN  \n",
      "50%            NaN    NaN  \n",
      "75%            NaN    NaN  \n",
      "max            NaN    NaN  \n"
     ]
    }
   ],
   "source": [
    "print(df.describe(include='all'))"
   ]
  },
  {
   "cell_type": "markdown",
   "id": "e2f01e04",
   "metadata": {},
   "source": [
    "### 1.5-Check Missing Values"
   ]
  },
  {
   "cell_type": "code",
   "execution_count": 6,
   "id": "2a27931f",
   "metadata": {},
   "outputs": [
    {
     "name": "stdout",
     "output_type": "stream",
     "text": [
      "Order ID            0\n",
      "Product             0\n",
      "Category            0\n",
      "Quantity Ordered    0\n",
      "Price Each          0\n",
      "Order Date          0\n",
      "Region              0\n",
      "dtype: int64\n"
     ]
    }
   ],
   "source": [
    "print(df.isnull().sum())"
   ]
  },
  {
   "cell_type": "markdown",
   "id": "060ab785",
   "metadata": {},
   "source": [
    "## Phase 2 – Core Analysis & Trend"
   ]
  },
  {
   "cell_type": "markdown",
   "id": "ce9cef55",
   "metadata": {},
   "source": [
    "### 2.1-Add Time Features"
   ]
  },
  {
   "cell_type": "code",
   "execution_count": 7,
   "id": "7df2ce63",
   "metadata": {},
   "outputs": [
    {
     "data": {
      "text/html": [
       "<div>\n",
       "<style scoped>\n",
       "    .dataframe tbody tr th:only-of-type {\n",
       "        vertical-align: middle;\n",
       "    }\n",
       "\n",
       "    .dataframe tbody tr th {\n",
       "        vertical-align: top;\n",
       "    }\n",
       "\n",
       "    .dataframe thead th {\n",
       "        text-align: right;\n",
       "    }\n",
       "</style>\n",
       "<table border=\"1\" class=\"dataframe\">\n",
       "  <thead>\n",
       "    <tr style=\"text-align: right;\">\n",
       "      <th></th>\n",
       "      <th>Order Date</th>\n",
       "      <th>Month_Added</th>\n",
       "      <th>Year_Added</th>\n",
       "      <th>Weekday_Added</th>\n",
       "    </tr>\n",
       "  </thead>\n",
       "  <tbody>\n",
       "    <tr>\n",
       "      <th>0</th>\n",
       "      <td>2023-01-15</td>\n",
       "      <td>1</td>\n",
       "      <td>2023</td>\n",
       "      <td>6</td>\n",
       "    </tr>\n",
       "    <tr>\n",
       "      <th>1</th>\n",
       "      <td>2023-01-16</td>\n",
       "      <td>1</td>\n",
       "      <td>2023</td>\n",
       "      <td>0</td>\n",
       "    </tr>\n",
       "    <tr>\n",
       "      <th>2</th>\n",
       "      <td>2023-01-17</td>\n",
       "      <td>1</td>\n",
       "      <td>2023</td>\n",
       "      <td>1</td>\n",
       "    </tr>\n",
       "    <tr>\n",
       "      <th>3</th>\n",
       "      <td>2023-01-18</td>\n",
       "      <td>1</td>\n",
       "      <td>2023</td>\n",
       "      <td>2</td>\n",
       "    </tr>\n",
       "    <tr>\n",
       "      <th>4</th>\n",
       "      <td>2023-01-15</td>\n",
       "      <td>1</td>\n",
       "      <td>2023</td>\n",
       "      <td>6</td>\n",
       "    </tr>\n",
       "  </tbody>\n",
       "</table>\n",
       "</div>"
      ],
      "text/plain": [
       "  Order Date  Month_Added  Year_Added  Weekday_Added\n",
       "0 2023-01-15            1        2023              6\n",
       "1 2023-01-16            1        2023              0\n",
       "2 2023-01-17            1        2023              1\n",
       "3 2023-01-18            1        2023              2\n",
       "4 2023-01-15            1        2023              6"
      ]
     },
     "execution_count": 7,
     "metadata": {},
     "output_type": "execute_result"
    }
   ],
   "source": [
    "df['Order Date']=pd.to_datetime(df['Order Date'])\n",
    "df['Month_Added']=df['Order Date'].dt.month\n",
    "df['Year_Added']=df['Order Date'].dt.year\n",
    "df['Weekday_Added']=df['Order Date'].dt.weekday\n",
    "df[['Order Date', 'Month_Added', 'Year_Added', 'Weekday_Added']].head()"
   ]
  },
  {
   "cell_type": "code",
   "execution_count": 11,
   "id": "a9370410",
   "metadata": {},
   "outputs": [
    {
     "data": {
      "text/html": [
       "<div>\n",
       "<style scoped>\n",
       "    .dataframe tbody tr th:only-of-type {\n",
       "        vertical-align: middle;\n",
       "    }\n",
       "\n",
       "    .dataframe tbody tr th {\n",
       "        vertical-align: top;\n",
       "    }\n",
       "\n",
       "    .dataframe thead th {\n",
       "        text-align: right;\n",
       "    }\n",
       "</style>\n",
       "<table border=\"1\" class=\"dataframe\">\n",
       "  <thead>\n",
       "    <tr style=\"text-align: right;\">\n",
       "      <th></th>\n",
       "      <th>Order ID</th>\n",
       "      <th>Product</th>\n",
       "      <th>Category</th>\n",
       "      <th>Quantity Ordered</th>\n",
       "      <th>Price Each</th>\n",
       "      <th>Order Date</th>\n",
       "      <th>Region</th>\n",
       "      <th>Month_Added</th>\n",
       "      <th>Year_Added</th>\n",
       "      <th>Weekday_Added</th>\n",
       "      <th>Sales</th>\n",
       "    </tr>\n",
       "  </thead>\n",
       "  <tbody>\n",
       "    <tr>\n",
       "      <th>0</th>\n",
       "      <td>1001</td>\n",
       "      <td>Laptop</td>\n",
       "      <td>Electronics</td>\n",
       "      <td>1</td>\n",
       "      <td>1200</td>\n",
       "      <td>2023-01-15</td>\n",
       "      <td>West</td>\n",
       "      <td>1</td>\n",
       "      <td>2023</td>\n",
       "      <td>6</td>\n",
       "      <td>1200</td>\n",
       "    </tr>\n",
       "    <tr>\n",
       "      <th>1</th>\n",
       "      <td>1002</td>\n",
       "      <td>Phone</td>\n",
       "      <td>Electronics</td>\n",
       "      <td>2</td>\n",
       "      <td>700</td>\n",
       "      <td>2023-01-16</td>\n",
       "      <td>East</td>\n",
       "      <td>1</td>\n",
       "      <td>2023</td>\n",
       "      <td>0</td>\n",
       "      <td>1400</td>\n",
       "    </tr>\n",
       "    <tr>\n",
       "      <th>2</th>\n",
       "      <td>1003</td>\n",
       "      <td>Tablet</td>\n",
       "      <td>Electronics</td>\n",
       "      <td>1</td>\n",
       "      <td>300</td>\n",
       "      <td>2023-01-17</td>\n",
       "      <td>West</td>\n",
       "      <td>1</td>\n",
       "      <td>2023</td>\n",
       "      <td>1</td>\n",
       "      <td>300</td>\n",
       "    </tr>\n",
       "    <tr>\n",
       "      <th>3</th>\n",
       "      <td>1004</td>\n",
       "      <td>Monitor</td>\n",
       "      <td>Electronics</td>\n",
       "      <td>3</td>\n",
       "      <td>250</td>\n",
       "      <td>2023-01-18</td>\n",
       "      <td>South</td>\n",
       "      <td>1</td>\n",
       "      <td>2023</td>\n",
       "      <td>2</td>\n",
       "      <td>750</td>\n",
       "    </tr>\n",
       "    <tr>\n",
       "      <th>4</th>\n",
       "      <td>1001</td>\n",
       "      <td>Laptop</td>\n",
       "      <td>Electronics</td>\n",
       "      <td>1</td>\n",
       "      <td>1200</td>\n",
       "      <td>2023-01-15</td>\n",
       "      <td>West</td>\n",
       "      <td>1</td>\n",
       "      <td>2023</td>\n",
       "      <td>6</td>\n",
       "      <td>1200</td>\n",
       "    </tr>\n",
       "  </tbody>\n",
       "</table>\n",
       "</div>"
      ],
      "text/plain": [
       "   Order ID  Product     Category  Quantity Ordered  Price Each Order Date  \\\n",
       "0      1001   Laptop  Electronics                 1        1200 2023-01-15   \n",
       "1      1002    Phone  Electronics                 2         700 2023-01-16   \n",
       "2      1003   Tablet  Electronics                 1         300 2023-01-17   \n",
       "3      1004  Monitor  Electronics                 3         250 2023-01-18   \n",
       "4      1001   Laptop  Electronics                 1        1200 2023-01-15   \n",
       "\n",
       "  Region  Month_Added  Year_Added  Weekday_Added  Sales  \n",
       "0   West            1        2023              6   1200  \n",
       "1   East            1        2023              0   1400  \n",
       "2   West            1        2023              1    300  \n",
       "3  South            1        2023              2    750  \n",
       "4   West            1        2023              6   1200  "
      ]
     },
     "execution_count": 11,
     "metadata": {},
     "output_type": "execute_result"
    }
   ],
   "source": [
    "df['Sales'] = df['Quantity Ordered'] * df['Price Each']\n",
    "df.head()\n"
   ]
  },
  {
   "cell_type": "markdown",
   "id": "fe852f04",
   "metadata": {},
   "source": [
    "### Q1: Which product generated is the highest total sales?"
   ]
  },
  {
   "cell_type": "code",
   "execution_count": 12,
   "id": "2a170e00",
   "metadata": {},
   "outputs": [
    {
     "name": "stdout",
     "output_type": "stream",
     "text": [
      "Product\n",
      "Phone      3150000\n",
      "Laptop     2700000\n",
      "Monitor    1687500\n",
      "Tablet      675000\n",
      "Name: Sales, dtype: int64\n"
     ]
    }
   ],
   "source": [
    "top_products = df.groupby('Product')['Sales'].sum().sort_values(ascending=False)\n",
    "print(top_products)"
   ]
  },
  {
   "cell_type": "markdown",
   "id": "1c4190c8",
   "metadata": {},
   "source": [
    "### Q2: Which category is the most profitable?"
   ]
  },
  {
   "cell_type": "code",
   "execution_count": 13,
   "id": "88b80257",
   "metadata": {},
   "outputs": [
    {
     "name": "stdout",
     "output_type": "stream",
     "text": [
      "Category\n",
      "Electronics    8212500\n",
      "Name: Sales, dtype: int64\n"
     ]
    }
   ],
   "source": [
    "category_sales = df.groupby('Category')['Sales'].sum().sort_values(ascending=False)\n",
    "print(category_sales)\n"
   ]
  },
  {
   "cell_type": "markdown",
   "id": "66bc9d8b",
   "metadata": {},
   "source": [
    "###  Q3: What is the sales trend month-wise?"
   ]
  },
  {
   "cell_type": "code",
   "execution_count": 16,
   "id": "e5737f15",
   "metadata": {},
   "outputs": [
    {
     "name": "stdout",
     "output_type": "stream",
     "text": [
      "Month_Added\n",
      "1    8212500\n",
      "Name: Sales, dtype: int64\n"
     ]
    }
   ],
   "source": [
    "monthly_sales = df.groupby('Month_Added')['Sales'].sum()\n",
    "print(monthly_sales)"
   ]
  },
  {
   "cell_type": "markdown",
   "id": "1a6a2fe3",
   "metadata": {},
   "source": [
    "### Q4: Which region drives the most revenue?"
   ]
  },
  {
   "cell_type": "code",
   "execution_count": 17,
   "id": "51b57441",
   "metadata": {},
   "outputs": [
    {
     "name": "stdout",
     "output_type": "stream",
     "text": [
      "Region\n",
      "West     3375000\n",
      "East     3150000\n",
      "South    1687500\n",
      "Name: Sales, dtype: int64\n"
     ]
    }
   ],
   "source": [
    "region_sales = df.groupby('Region')['Sales'].sum().sort_values(ascending=False)\n",
    "print(region_sales)\n"
   ]
  },
  {
   "cell_type": "markdown",
   "id": "8032aecf",
   "metadata": {},
   "source": [
    "### Q5: Which weekday has the highest number of orders?"
   ]
  },
  {
   "cell_type": "code",
   "execution_count": 19,
   "id": "bd5dc828",
   "metadata": {},
   "outputs": [
    {
     "name": "stdout",
     "output_type": "stream",
     "text": [
      "Weekday_Added\n",
      "6    2250\n",
      "0    2250\n",
      "1    2250\n",
      "2    2250\n",
      "Name: count, dtype: int64\n"
     ]
    }
   ],
   "source": [
    "weekday_orders = df['Weekday_Added'].value_counts()\n",
    "print(weekday_orders)\n"
   ]
  },
  {
   "cell_type": "markdown",
   "id": "4e718a25",
   "metadata": {},
   "source": [
    "### Q6: What is the average quantity ordered per category?"
   ]
  },
  {
   "cell_type": "code",
   "execution_count": 20,
   "id": "947780ac",
   "metadata": {},
   "outputs": [
    {
     "name": "stdout",
     "output_type": "stream",
     "text": [
      "Category\n",
      "Electronics    1.75\n",
      "Name: Quantity Ordered, dtype: float64\n"
     ]
    }
   ],
   "source": [
    "avg_quantity = df.groupby('Category')['Quantity Ordered'].mean().sort_values(ascending=False)\n",
    "print(avg_quantity)\n"
   ]
  },
  {
   "cell_type": "markdown",
   "id": "d5584029",
   "metadata": {},
   "source": [
    "##  Phase 3 – Analytical Insights with Visualizations"
   ]
  },
  {
   "cell_type": "markdown",
   "id": "d25f3962",
   "metadata": {},
   "source": [
    "### Q1: Which product generated the highest total sales?"
   ]
  },
  {
   "cell_type": "code",
   "execution_count": 22,
   "id": "15aa179f",
   "metadata": {},
   "outputs": [
    {
     "data": {
      "image/png": "[encoded data removed]",
      "text/plain": [
       "<Figure size 1000x600 with 1 Axes>"
      ]
     },
     "metadata": {},
     "output_type": "display_data"
    }
   ],
   "source": [
    "import matplotlib.pyplot as plt\n",
    "import seaborn as sns\n",
    "\n",
    "product_sales = df.groupby('Product')['Sales'].sum().sort_values(ascending=False)\n",
    "\n",
    "plt.figure(figsize=(10,6))\n",
    "product_sales.plot(kind='bar', color='coral')\n",
    "plt.title('Total Sales by Product')\n",
    "plt.xlabel('Product')\n",
    "plt.ylabel('Total Sales')\n",
    "plt.xticks(rotation=45)\n",
    "plt.tight_layout()\n",
    "plt.show()\n"
   ]
  },
  {
   "cell_type": "markdown",
   "id": "b9bc104d",
   "metadata": {},
   "source": [
    "###  Q2: Which category had the highest average price?"
   ]
  },
  {
   "cell_type": "code",
   "execution_count": 23,
   "id": "e376b038",
   "metadata": {},
   "outputs": [
    {
     "data": {
      "image/png": "[encoded data removed]",
      "text/plain": [
       "<Figure size 800x500 with 1 Axes>"
      ]
     },
     "metadata": {},
     "output_type": "display_data"
    }
   ],
   "source": [
    "avg_price = df.groupby('Category')['Price Each'].mean().sort_values(ascending=True)\n",
    "\n",
    "plt.figure(figsize=(8,5))\n",
    "avg_price.plot(kind='barh', color='mediumseagreen')\n",
    "plt.title('Average Price by Category')\n",
    "plt.xlabel('Average Price')\n",
    "plt.ylabel('Category')\n",
    "plt.tight_layout()\n",
    "plt.show()\n"
   ]
  },
  {
   "cell_type": "markdown",
   "id": "8c8d6098",
   "metadata": {},
   "source": [
    "###  Q3: Which month had the highest revenue?"
   ]
  },
  {
   "cell_type": "code",
   "execution_count": 28,
   "id": "7bca58cb",
   "metadata": {},
   "outputs": [
    {
     "data": {
      "image/png": "[encoded data removed]",
      "text/plain": [
       "<Figure size 900x500 with 1 Axes>"
      ]
     },
     "metadata": {},
     "output_type": "display_data"
    }
   ],
   "source": [
    "monthly_sales = df.groupby('Month_Added')['Sales'].sum().sort_index()\n",
    "\n",
    "plt.figure(figsize=(9,5))\n",
    "monthly_sales.plot(marker='o', color='royalblue')\n",
    "plt.title('Monthly Revenue Trend')\n",
    "plt.xlabel('Month')\n",
    "plt.ylabel('Total Sales')\n",
    "plt.grid(True)\n",
    "plt.xticks(range(1,13))\n",
    "plt.tight_layout()\n",
    "plt.show()\n"
   ]
  },
  {
   "cell_type": "markdown",
   "id": "e9a1dea9",
   "metadata": {},
   "source": [
    "### Q4: Which region drives the most revenue?"
   ]
  },
  {
   "cell_type": "code",
   "execution_count": 33,
   "id": "644a317c",
   "metadata": {},
   "outputs": [
    {
     "data": {
      "image/png": "[encoded data removed]",
      "text/plain": [
       "<Figure size 800x500 with 1 Axes>"
      ]
     },
     "metadata": {},
     "output_type": "display_data"
    }
   ],
   "source": [
    "region_sales = df.groupby('Region')['Sales'].sum().sort_values()\n",
    "\n",
    "plt.figure(figsize=(8,5))\n",
    "region_sales.plot(kind='barh', color='purple')\n",
    "plt.title('Sales by Region')\n",
    "plt.xlabel('Total Sales')\n",
    "plt.ylabel('Region')\n",
    "plt.tight_layout()\n",
    "plt.show()\n"
   ]
  },
  {
   "cell_type": "markdown",
   "id": "936713d7",
   "metadata": {},
   "source": [
    "# Conclusion"
   ]
  },
  {
   "cell_type": "markdown",
   "id": "bc3fdd89",
   "metadata": {},
   "source": [
    "######\n",
    " Conclusion\n",
    "\n",
    "Based on our retail sales analysis:\n",
    "\n",
    "-  **Top-selling products** include high-value electronics like Laptops and Phones.\n",
    "-  **Electronics** category generates the highest average price.\n",
    "-  **Revenue peaks** during certain months, indicating seasonal trends.\n",
    "-  **The West region** leads in total sales — highlighting regional performance differences.\n",
    "\n",
    "This analysis showcases how Python and Pandas can be used in real business scenarios to extract data-driven insights from structured transactional data.\n",
    "\n"
   ]
  }
 ],
 "metadata": {
  "kernelspec": {
   "display_name": "Python 3",
   "language": "python",
   "name": "python3"
  },
  "language_info": {
   "codemirror_mode": {
    "name": "ipython",
    "version": 3
   },
   "file_extension": ".py",
   "mimetype": "text/x-python",
   "name": "python",
   "nbconvert_exporter": "python",
   "pygments_lexer": "ipython3",
   "version": "3.10.11"
  }
 },
 "nbformat": 4,
 "nbformat_minor": 5
}
